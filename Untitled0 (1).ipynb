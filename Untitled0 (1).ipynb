{
  "nbformat": 4,
  "nbformat_minor": 0,
  "metadata": {
    "colab": {
      "provenance": []
    },
    "kernelspec": {
      "name": "python3",
      "display_name": "Python 3"
    },
    "language_info": {
      "name": "python"
    }
  },
  "cells": [
    {
      "cell_type": "code",
      "source": [
        "#W2A1\n",
        "print(\"Hello World!\")"
      ],
      "metadata": {
        "colab": {
          "base_uri": "https://localhost:8080/"
        },
        "id": "vtiRsndWkZ5u",
        "outputId": "fb7ec1d5-97ef-494b-aa01-6b6f753bd410"
      },
      "execution_count": null,
      "outputs": [
        {
          "output_type": "stream",
          "name": "stdout",
          "text": [
            "Hello World!\n"
          ]
        }
      ]
    },
    {
      "cell_type": "code",
      "source": [
        "#W2A2\n",
        "name=input(\"Enter your name: \")\n",
        "print(name)"
      ],
      "metadata": {
        "colab": {
          "base_uri": "https://localhost:8080/"
        },
        "id": "sl5GU4VAk2UV",
        "outputId": "4b9a25e2-694d-4039-a438-400fbb1945d6"
      },
      "execution_count": null,
      "outputs": [
        {
          "output_type": "stream",
          "name": "stdout",
          "text": [
            "Enter your name: Dat\n",
            "Dat\n"
          ]
        }
      ]
    },
    {
      "cell_type": "code",
      "source": [
        "#W2A10\n",
        "x=input(\"Nhập tên 3 bạn: \").split()\n",
        "print(f\"{x[2]},{x[1]},{x[0]}\")"
      ],
      "metadata": {
        "id": "CimyzDUalRt4",
        "colab": {
          "base_uri": "https://localhost:8080/"
        },
        "outputId": "e85b86fd-0c18-44a1-877c-0f1212d0ae8c"
      },
      "execution_count": 3,
      "outputs": [
        {
          "output_type": "stream",
          "name": "stdout",
          "text": [
            "Nhập tên 3 bạn: An Nam Cong\n",
            "Cong,Nam,An\n"
          ]
        }
      ]
    },
    {
      "cell_type": "code",
      "source": [
        "#W2A16\n",
        "print(\"Spring\\nSumer\\nAutumn\\nWinter\")"
      ],
      "metadata": {
        "colab": {
          "base_uri": "https://localhost:8080/"
        },
        "id": "5S8K38G1ooM2",
        "outputId": "c68f329d-3908-459b-d812-cda920a959a0"
      },
      "execution_count": null,
      "outputs": [
        {
          "output_type": "stream",
          "name": "stdout",
          "text": [
            "Spring\n",
            "Sumer\n",
            "Autumn\n",
            "Winter\n"
          ]
        }
      ]
    },
    {
      "cell_type": "code",
      "source": [
        "#W2A17\n",
        "print(\"*\\n***\\n*****\")"
      ],
      "metadata": {
        "colab": {
          "base_uri": "https://localhost:8080/"
        },
        "id": "16guuouGpx9k",
        "outputId": "079ade1d-424d-41f1-b958-6c64a179643c"
      },
      "execution_count": null,
      "outputs": [
        {
          "output_type": "stream",
          "name": "stdout",
          "text": [
            "*\n",
            "***\n",
            "*****\n"
          ]
        }
      ]
    },
    {
      "cell_type": "code",
      "source": [
        "#W2A18\n",
        "print(\"### ##    ### ###\")\n",
        "print(\" #  #  #   #   # \")\n",
        "print(\" #  #   #  #   # \")\n",
        "print(\" #  #  #   #   # \")\n",
        "print(\" #  ##     #   # \")\n"
      ],
      "metadata": {
        "colab": {
          "base_uri": "https://localhost:8080/"
        },
        "id": "UpADjuJ7p2qD",
        "outputId": "00d17f0b-ce14-4991-e794-a9e34bc115b9"
      },
      "execution_count": null,
      "outputs": [
        {
          "output_type": "stream",
          "name": "stdout",
          "text": [
            "### ##    ### ###\n",
            " #  #  #   #   # \n",
            " #  #   #  #   # \n",
            " #  #  #   #   # \n",
            " #  ##     #   # \n"
          ]
        }
      ]
    },
    {
      "cell_type": "code",
      "source": [
        "#W2A19\n",
        "print(\"Monday\\nTuesday\\nWednesday\\nThursday\\nFriday\\nSaturday\\nSunday\")"
      ],
      "metadata": {
        "colab": {
          "base_uri": "https://localhost:8080/"
        },
        "id": "ysJ81uDftdkr",
        "outputId": "21ddd3e0-2c9f-41c2-e92c-6e901b76d85e"
      },
      "execution_count": null,
      "outputs": [
        {
          "output_type": "stream",
          "name": "stdout",
          "text": [
            "Monday\n",
            "Tuesday\n",
            "Wednesday\n",
            "Thursday\n",
            "Friday\n",
            "Saturday\n",
            "Sunday\n"
          ]
        }
      ]
    },
    {
      "cell_type": "code",
      "source": [
        "#W2a20\n",
        "import calendar\n",
        "months = list(calendar.month_name)[1:]\n",
        "for i in months:\n",
        "    print (i)"
      ],
      "metadata": {
        "colab": {
          "base_uri": "https://localhost:8080/"
        },
        "id": "tnwSjDGZ2eDU",
        "outputId": "6559dea4-f6e5-488f-b2fc-9702345535fb"
      },
      "execution_count": null,
      "outputs": [
        {
          "output_type": "stream",
          "name": "stdout",
          "text": [
            "January\n",
            "February\n",
            "March\n",
            "April\n",
            "May\n",
            "June\n",
            "July\n",
            "August\n",
            "September\n",
            "October\n",
            "November\n",
            "December\n"
          ]
        }
      ]
    },
    {
      "cell_type": "code",
      "source": [
        "#W2A21\n",
        "for i in range (1,11):\n",
        "    print(\"Hello, World\")"
      ],
      "metadata": {
        "colab": {
          "base_uri": "https://localhost:8080/"
        },
        "id": "ztOOmDRotpi9",
        "outputId": "c53d48b6-e37e-430d-e64b-eab894bbc3e7"
      },
      "execution_count": null,
      "outputs": [
        {
          "output_type": "stream",
          "name": "stdout",
          "text": [
            "Hello, World\n",
            "Hello, World\n",
            "Hello, World\n",
            "Hello, World\n",
            "Hello, World\n",
            "Hello, World\n",
            "Hello, World\n",
            "Hello, World\n",
            "Hello, World\n",
            "Hello, World\n"
          ]
        }
      ]
    }
  ]
}