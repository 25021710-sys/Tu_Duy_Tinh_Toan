{
  "cells": [
    {
      "cell_type": "code",
      "execution_count": null,
      "metadata": {
        "colab": {
          "base_uri": "https://localhost:8080/"
        },
        "id": "q6v3O3juylwz",
        "outputId": "7217efcc-2ede-4691-c371-d18e2f9a12b0"
      },
      "outputs": [
        {
          "name": "stdout",
          "output_type": "stream",
          "text": [
            "Nhập vào 1 số nguyên: 3456\n",
            "Số đảo ngược là: 6543\n"
          ]
        }
      ],
      "source": [
        "n=input(\"Nhập vào 1 số nguyên: \")\n",
        "\n",
        "dao = n[::-1]\n",
        "ket_qua = int(dao)\n",
        "\n",
        "print(\"Số đảo ngược là:\", ket_qua)"
      ]
    },
    {
      "cell_type": "code",
      "execution_count": null,
      "metadata": {
        "colab": {
          "base_uri": "https://localhost:8080/"
        },
        "id": "TlPqbplU69Eu",
        "outputId": "90493ae3-5431-46a1-9ef3-a7df3d217fb1"
      },
      "outputs": [
        {
          "name": "stdout",
          "output_type": "stream",
          "text": [
            "Nhập số a b: 3 4\n",
            "4 3\n"
          ]
        }
      ],
      "source": [
        "a,b = map(int, input(\"Nhập số a b: \").split())\n",
        "\n",
        "a = a + b\n",
        "b = a - b\n",
        "a = a - b\n",
        "\n",
        "print(a,b)"
      ]
    },
    {
      "cell_type": "code",
      "execution_count": null,
      "metadata": {
        "colab": {
          "base_uri": "https://localhost:8080/"
        },
        "id": "KVUcpUYe76DZ",
        "outputId": "02ffb7c2-dabc-457a-f14d-e9f8818fd175"
      },
      "outputs": [
        {
          "name": "stdout",
          "output_type": "stream",
          "text": [
            "Nhập số n: 5\n",
            "False\n"
          ]
        }
      ],
      "source": [
        "n = int(input(\"Nhập số n: \"))\n",
        "\n",
        "if n <= 0:\n",
        "    print(\"False\")\n",
        "else:\n",
        "    while n % 2 == 0:\n",
        "        n = n // 2\n",
        "    if n == 1:\n",
        "        print(\"True\")\n",
        "    else:\n",
        "        print(\"False\")"
      ]
    },
    {
      "cell_type": "code",
      "execution_count": null,
      "metadata": {
        "id": "4FGGTpAR76Qo"
      },
      "outputs": [],
      "source": [
        "m = int(input(\"Nhập m: \"))\n",
        "n = int(input(\"Nhập n: \"))\n",
        "\n",
        "kq = m // n\n",
        "print(\"Kết quả làm tròn xuống là:\", kq)"
      ]
    },
    {
      "cell_type": "code",
      "execution_count": null,
      "metadata": {
        "colab": {
          "base_uri": "https://localhost:8080/"
        },
        "id": "GwqQCfMp8O4q",
        "outputId": "489d5025-167c-4348-afb0-ba0d3020e93c"
      },
      "outputs": [
        {
          "name": "stdout",
          "output_type": "stream",
          "text": [
            "Nhập số nguyên x: 3\n",
            "Odd\n"
          ]
        }
      ],
      "source": [
        "x = int(input(\"Nhập số nguyên x: \"))\n",
        "\n",
        "if x % 2 == 0:\n",
        "    print(\"Even\")\n",
        "else:\n",
        "    print(\"Odd\")"
      ]
    },
    {
      "cell_type": "code",
      "execution_count": null,
      "metadata": {
        "colab": {
          "base_uri": "https://localhost:8080/"
        },
        "id": "aEewM4zm8NjQ",
        "outputId": "8e94f565-aea5-442e-f897-1430424f977b"
      },
      "outputs": [
        {
          "name": "stdout",
          "output_type": "stream",
          "text": [
            "Nhập hai số a và b: -1 -4\n",
            "Yes\n"
          ]
        }
      ],
      "source": [
        "a, b = map(int, input(\"Nhập hai số a và b: \").split())\n",
        "\n",
        "if a < 0 and b < 0:\n",
        "    print(\"Yes\")\n",
        "else:\n",
        "    print(\"No\")"
      ]
    },
    {
      "cell_type": "code",
      "execution_count": null,
      "metadata": {
        "colab": {
          "base_uri": "https://localhost:8080/"
        },
        "id": "izpqhoSY8NWw",
        "outputId": "1573fab4-d887-4cfa-985d-e08a17f22c66"
      },
      "outputs": [
        {
          "name": "stdout",
          "output_type": "stream",
          "text": [
            "Nhập chuỗi a: cat\n",
            "Nhập chuỗi b: mouse\n",
            "False\n"
          ]
        }
      ],
      "source": [
        "a = input(\"Nhập chuỗi a: \")\n",
        "b = input(\"Nhập chuỗi b: \")\n",
        "\n",
        "if len(a) > len(b):\n",
        "    print(\"True\")\n",
        "else:\n",
        "    print(\"False\")"
      ]
    },
    {
      "cell_type": "code",
      "execution_count": null,
      "metadata": {
        "colab": {
          "base_uri": "https://localhost:8080/"
        },
        "id": "YJjzKlMo8NQk",
        "outputId": "2c3c8169-1907-45d3-f3e6-b67e9b373fc9"
      },
      "outputs": [
        {
          "name": "stdout",
          "output_type": "stream",
          "text": [
            "Nhập 3 cạnh a, b, c: 4 5 6\n",
            "Yes\n"
          ]
        }
      ],
      "source": [
        "a, b, c = map(int, input(\"Nhập 3 cạnh a, b, c: \").split())\n",
        "\n",
        "if a > 0 and b > 0 and c > 0 and (a + b > c) and (a + c > b) and (b + c > a):\n",
        "    print(\"Yes\")\n",
        "else:\n",
        "    print(\"No\")"
      ]
    },
    {
      "cell_type": "code",
      "execution_count": null,
      "metadata": {
        "colab": {
          "base_uri": "https://localhost:8080/"
        },
        "id": "Osja5fqY8NJE",
        "outputId": "86569123-d619-4faa-a8d8-7e798888bd5f"
      },
      "outputs": [
        {
          "name": "stdout",
          "output_type": "stream",
          "text": [
            "Nhập 4 số nguyên: 3 4 5 7\n",
            "Số lớn nhất là: 7\n"
          ]
        }
      ],
      "source": [
        "a, b, c, d = map(int, input(\"Nhập 4 số nguyên: \").split())\n",
        "largest = max(a, b, c, d)\n",
        "print(\"Số lớn nhất là:\", largest)"
      ]
    },
    {
      "cell_type": "code",
      "execution_count": null,
      "metadata": {
        "colab": {
          "base_uri": "https://localhost:8080/"
        },
        "id": "C4Mp6iI48NBk",
        "outputId": "ed23a1d6-5b3c-4760-80df-e62ccd673ea5"
      },
      "outputs": [
        {
          "name": "stdout",
          "output_type": "stream",
          "text": [
            "Nhập 3 cạnh a, b, c: 6 6 6\n",
            "Tam giác đều\n"
          ]
        }
      ],
      "source": [
        "a, b, c = map(int, input(\"Nhập 3 cạnh a, b, c: \").split())\n",
        "\n",
        "if a > 0 and b > 0 and c > 0 and (a + b > c) and (a + c > b) and (b + c > a):\n",
        "    if a == b == c:\n",
        "        print(\"Tam giác đều\")\n",
        "    elif a == b or b == c or a == c:\n",
        "        print(\"Tam giác cân\")\n",
        "    else:\n",
        "        print(\"Tam giác thường\")\n",
        "else:\n",
        "    print(\"Không phải tam giác\")"
      ]
    },
    {
      "cell_type": "code",
      "execution_count": null,
      "metadata": {
        "colab": {
          "base_uri": "https://localhost:8080/"
        },
        "id": "iyrWb2kU9Phf",
        "outputId": "7138b4e1-ea10-414e-8cbe-de3c95014e8d"
      },
      "outputs": [
        {
          "name": "stdout",
          "output_type": "stream",
          "text": [
            "Nhập năm: 2026\n",
            "No\n"
          ]
        }
      ],
      "source": [
        "n = int(input(\"Nhập năm: \"))\n",
        "\n",
        "if (n % 400 == 0) or (n % 4 == 0 and n % 100 != 0):\n",
        "    print(\"Yes\")\n",
        "else:\n",
        "    print(\"No\")"
      ]
    },
    {
      "cell_type": "code",
      "execution_count": null,
      "metadata": {
        "colab": {
          "base_uri": "https://localhost:8080/"
        },
        "id": "lIazvvxk9PeU",
        "outputId": "20917c07-91bf-4ea3-bf7d-4fbd53afff78"
      },
      "outputs": [
        {
          "name": "stdout",
          "output_type": "stream",
          "text": [
            "Nhập số kWh điện tiêu thụ: 789\n",
            "Tiền điện phải trả là: 2242000\n"
          ]
        }
      ],
      "source": [
        "kwh = int(input(\"Nhập số kWh điện tiêu thụ: \"))\n",
        "\n",
        "if kwh <= 50:\n",
        "    money = kwh * 1500\n",
        "elif kwh <= 100:\n",
        "    money = 50 * 1500 + (kwh - 50) * 2000\n",
        "else:\n",
        "    money = 50 * 1500 + 50 * 2000 + (kwh - 100) * 3000\n",
        "\n",
        "print(\"Tiền điện phải trả là:\", money)"
      ]
    },
    {
      "cell_type": "code",
      "execution_count": null,
      "metadata": {
        "colab": {
          "base_uri": "https://localhost:8080/"
        },
        "id": "2-MR3E6Q9Pal",
        "outputId": "6e348215-10cf-41cb-d25c-22b663903026"
      },
      "outputs": [
        {
          "name": "stdout",
          "output_type": "stream",
          "text": [
            "Nhập a và b: 7.91 0.89\n",
            "Nghiệm x = -0.11\n"
          ]
        }
      ],
      "source": [
        "a, b = map(float, input(\"Nhập a và b: \").split())\n",
        "\n",
        "if a == 0:\n",
        "    if b == 0:\n",
        "        print(\"Vô số nghiệm\")\n",
        "    else:\n",
        "        print(\"Vô nghiệm\")\n",
        "else:\n",
        "    x = -b / a\n",
        "    print(\"Nghiệm x =\", round(x, 2))"
      ]
    },
    {
      "cell_type": "code",
      "execution_count": null,
      "metadata": {
        "colab": {
          "base_uri": "https://localhost:8080/"
        },
        "id": "cnK78H5q-Xcr",
        "outputId": "e2763ce3-c569-4181-a716-3961252e339a"
      },
      "outputs": [
        {
          "name": "stdout",
          "output_type": "stream",
          "text": [
            "Nhập điểm trung bình: 9.0\n",
            "Giỏi\n"
          ]
        }
      ],
      "source": [
        "score = float(input(\"Nhập điểm trung bình: \"))\n",
        "\n",
        "if score >= 8.0:\n",
        "    print(\"Giỏi\")\n",
        "elif score >= 6.5:\n",
        "    print(\"Khá\")\n",
        "elif score >= 5.0:\n",
        "    print(\"Trung bình\")\n",
        "else:\n",
        "    print(\"Yếu\")"
      ]
    },
    {
      "cell_type": "code",
      "execution_count": null,
      "metadata": {
        "colab": {
          "base_uri": "https://localhost:8080/"
        },
        "id": "RH8zSc2X-XLz",
        "outputId": "5144ddb8-a2f1-48af-93cc-ad28339dc068"
      },
      "outputs": [
        {
          "name": "stdout",
          "output_type": "stream",
          "text": [
            "Nhập một số: 6.9\n",
            "Làm tròn lên: 7\n",
            "Làm tròn xuống: 6\n",
            "Làm tròn gần nhất: 7\n"
          ]
        }
      ],
      "source": [
        "import math\n",
        "n = float(input(\"Nhập một số: \"))\n",
        "\n",
        "print(\"Làm tròn lên:\", math.ceil(n))\n",
        "print(\"Làm tròn xuống:\", math.floor(n))\n",
        "print(\"Làm tròn gần nhất:\", round(n))"
      ]
    }
  ],
  "metadata": {
    "colab": {
      "provenance": []
    },
    "kernelspec": {
      "display_name": "Python 3",
      "name": "python3"
    },
    "language_info": {
      "name": "python"
    }
  },
  "nbformat": 4,
  "nbformat_minor": 0
}
